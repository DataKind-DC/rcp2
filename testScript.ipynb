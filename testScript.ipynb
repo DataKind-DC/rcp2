{
 "cells": [
  {
   "cell_type": "code",
   "execution_count": null,
   "metadata": {
    "tags": [
     "remove_cell"
    ]
   },
   "outputs": [],
   "source": [
    "import warnings\n",
    "warnings.filterwarnings('ignore')\n",
    "\n",
    "from src.data import DataLoaders\n",
    "from src import utils\n",
    "import pandas as pd\n",
    "from src.models.ModelClasses import FireRiskModels, SmokeAlarmModels\n",
    "from matplotlib import pyplot as plt\n",
    "from pathlib import Path\n",
    "from datetime import date, datetime\n",
    "import numpy as np\n",
    "#import geopandas as geo\n",
    "import subprocess\n",
    "\n",
    "from IPython.display import display, Markdown"
   ]
  },
  {
   "cell_type": "markdown",
   "metadata": {},
   "source": [
    "Create report with: `jupyter nbconvert --to pdf --output withMarkdownPDF --TagRemovePreprocessor.enabled=True --TagRemovePreprocessor.remove_cell_tags=['remove_cell']  --no-input testScript.ipynb`"
   ]
  },
  {
   "cell_type": "markdown",
   "metadata": {},
   "source": [
    "# Fire Models"
   ]
  },
  {
   "cell_type": "code",
   "execution_count": null,
   "metadata": {
    "tags": [
     "remove_cell"
    ]
   },
   "outputs": [],
   "source": [
    "# grab version of code \n",
    "#subprocess.check_output(['git', 'rev-parse', '--short', 'HEAD'])"
   ]
  },
  {
   "cell_type": "code",
   "execution_count": null,
   "metadata": {},
   "outputs": [],
   "source": [
    "master_log_file_path = utils.DATA['logging'] / 'MasterLog.csv'\n",
    "\n"
   ]
  },
  {
   "cell_type": "code",
   "execution_count": null,
   "metadata": {},
   "outputs": [],
   "source": [
    "if master_log_file_path.exists():\n",
    "    experiment_num = pd.read_csv( master_log_file_path).shape[0] + 1 \n",
    "else:\n",
    "     experiment_num = 1 \n",
    "experiment_num"
   ]
  },
  {
   "cell_type": "code",
   "execution_count": null,
   "metadata": {
    "tags": [
     "remove_cell"
    ]
   },
   "outputs": [],
   "source": [
    "\n",
    "expt_path =  Path.cwd() / 'Data' /  'Logs' / f'Experiment_{experiment_num}'"
   ]
  },
  {
   "cell_type": "code",
   "execution_count": null,
   "metadata": {},
   "outputs": [],
   "source": [
    "# put all task variables here \n",
    "ACS_year = 2016\n",
    "NFIRS_year_predicted =  2019\n",
    "NFIRS_num_training_years  =  5\n",
    "NFIRS_year_used_end = NFIRS_year_predicted -1 "
   ]
  },
  {
   "cell_type": "code",
   "execution_count": null,
   "metadata": {},
   "outputs": [],
   "source": [
    "display(Markdown('**The following columns are being kept**'))\n",
    "ACS_cols_to_use =[ 'did_not_work_past_12_mo',\n",
    "               'house_pct_live_alone',\n",
    "               'pct_alt_heat',\n",
    "               'house_yr_pct_before_1960',\n",
    "               'inc_pct_poverty',\n",
    "               'race_pct_black_or_amind']\n",
    "print(ACS_cols_to_use)"
   ]
  },
  {
   "cell_type": "code",
   "execution_count": null,
   "metadata": {},
   "outputs": [],
   "source": [
    "Code_repo = subprocess.check_output(['git', 'config', '--get', 'remote.origin.url'])\n",
    "Code_version =  subprocess.check_output(['git', 'rev-parse', '--short', 'HEAD']).strip()"
   ]
  },
  {
   "cell_type": "code",
   "execution_count": null,
   "metadata": {
    "tags": [
     "remove_cell"
    ]
   },
   "outputs": [],
   "source": [
    "expt_log =  pd.DataFrame( {'Experiment': experiment_num ,\n",
    " 'Date': datetime.now(),\n",
    " 'expt_folder' : expt_path,\n",
    " 'Code_Repo' :   Code_repo ,                        \n",
    " 'Code_Version': Code_version ,\n",
    " 'ACS_Version': '2016',\n",
    " 'Level': 'block_group',\n",
    " 'NFIRS_year_used_start': NFIRS_year_used_end - NFIRS_num_training_years,                                        \n",
    " 'NFIRS_year_used_end': NFIRS_year_used_end ,\n",
    " 'NFIRS_year_predicted': NFIRS_year_predicted,  \n",
    "  'Severity_dollar_estimate' : 10000,\n",
    "  'ACS_cols_used': [ACS_cols_to_use] \n",
    "} )\n",
    "\n",
    "expt_log = expt_log.set_index('Experiment')\n"
   ]
  },
  {
   "cell_type": "code",
   "execution_count": null,
   "metadata": {
    "tags": [
     "remove_cell"
    ]
   },
   "outputs": [],
   "source": [
    "from datetime import datetime"
   ]
  },
  {
   "cell_type": "code",
   "execution_count": null,
   "metadata": {},
   "outputs": [],
   "source": [
    "print(datetime.now())"
   ]
  },
  {
   "cell_type": "code",
   "execution_count": null,
   "metadata": {
    "tags": [
     "remove_cell"
    ]
   },
   "outputs": [],
   "source": [
    "if master_log_file_path.exists():\n",
    "    expt_log.to_csv ( master_log_file_path,mode ='a', header = False )\n",
    "else:\n",
    "    expt_log.to_csv ( master_log_file_path, header = True )\n",
    "    \n",
    "\n"
   ]
  },
  {
   "cell_type": "code",
   "execution_count": null,
   "metadata": {
    "tags": [
     "remove_cell"
    ]
   },
   "outputs": [],
   "source": [
    "ACS =  DataLoaders.ACSData(ACS_year,'block_group')"
   ]
  },
  {
   "cell_type": "code",
   "execution_count": null,
   "metadata": {
    "tags": [
     "remove_cell"
    ]
   },
   "outputs": [],
   "source": [
    "NFIRS = DataLoaders.NFIRSData('block_group',ACS.tot_pop)\n",
    "NFIRS_Sev = DataLoaders.NFIRSData('block_group',ACS.tot_pop,sev=True)"
   ]
  },
  {
   "cell_type": "code",
   "execution_count": null,
   "metadata": {},
   "outputs": [],
   "source": [
    "NFIRS.fires"
   ]
  },
  {
   "cell_type": "code",
   "execution_count": null,
   "metadata": {},
   "outputs": [],
   "source": [
    "\n",
    "\n",
    "FSM =  FireRiskModels('severity')\n",
    "FPM =  FireRiskModels('propensity')"
   ]
  },
  {
   "cell_type": "markdown",
   "metadata": {},
   "source": [
    "## Fire Propensity Model"
   ]
  },
  {
   "cell_type": "code",
   "execution_count": null,
   "metadata": {},
   "outputs": [],
   "source": [
    "FPM.train( NFIRS = NFIRS,\n",
    "          ACS= ACS,\n",
    "          ACS_variables = ACS_cols_to_use,\n",
    "          prediction_year = NFIRS_year_predicted,\n",
    "          n_years = NFIRS_num_training_years)"
   ]
  },
  {
   "cell_type": "markdown",
   "metadata": {},
   "source": [
    "## Fire Severity Model"
   ]
  },
  {
   "cell_type": "code",
   "execution_count": null,
   "metadata": {
    "scrolled": true
   },
   "outputs": [],
   "source": [
    "FSM.train( NFIRS = NFIRS_Sev,\n",
    "          ACS= ACS,\n",
    "          ACS_variables = ACS_cols_to_use,\n",
    "          prediction_year = NFIRS_year_predicted,\n",
    "          n_years = NFIRS_num_training_years)"
   ]
  },
  {
   "cell_type": "markdown",
   "metadata": {},
   "source": [
    "# Smoke Alarm Models"
   ]
  },
  {
   "cell_type": "code",
   "execution_count": null,
   "metadata": {
    "tags": [
     "remove_cell"
    ]
   },
   "outputs": [],
   "source": [
    "ARC =  DataLoaders.ARCPData(ACS)"
   ]
  },
  {
   "cell_type": "code",
   "execution_count": null,
   "metadata": {
    "tags": [
     "remove_cell"
    ]
   },
   "outputs": [],
   "source": [
    "SVI =  DataLoaders.SVIData(ACS.data)\n",
    "#SVI.data"
   ]
  },
  {
   "cell_type": "code",
   "execution_count": null,
   "metadata": {
    "tags": [
     "remove_cell"
    ]
   },
   "outputs": [],
   "source": [
    "Smoke = SmokeAlarmModels()"
   ]
  },
  {
   "cell_type": "code",
   "execution_count": null,
   "metadata": {},
   "outputs": [],
   "source": [
    "smoke_prediction = Smoke.trainModels(ARC,ACS,SVI, ACS_cols_to_use, utils.DATA['data'])"
   ]
  },
  {
   "cell_type": "markdown",
   "metadata": {},
   "source": [
    "# Saving File"
   ]
  },
  {
   "cell_type": "code",
   "execution_count": null,
   "metadata": {},
   "outputs": [],
   "source": [
    "out_path = utils.DATA['model-outputs'] / f'experiment_{experiment_num}' \n",
    "Path.mkdir(out_path, exist_ok = True)"
   ]
  },
  {
   "cell_type": "code",
   "execution_count": null,
   "metadata": {
    "tags": [
     "remove_cell"
    ]
   },
   "outputs": [],
   "source": [
    "out = NFIRS.fires.copy()\n",
    "out.columns =  'fires_per_1K_pop_' + out.columns\n",
    "cols = out.columns"
   ]
  },
  {
   "cell_type": "code",
   "execution_count": null,
   "metadata": {
    "tags": [
     "remove_cell"
    ]
   },
   "outputs": [],
   "source": [
    "out = ACS.data.merge(out, how = 'left', left_index = True, right_index = True)\n",
    "out = out[cols]"
   ]
  },
  {
   "cell_type": "code",
   "execution_count": null,
   "metadata": {
    "tags": [
     "remove_cell"
    ]
   },
   "outputs": [],
   "source": [
    "# Smoke Alarm model munging \n",
    "\n",
    "\n",
    "# add number of surveys recorded at the block level\n",
    "num_surveys_block = Smoke.models['Block_Group']['num_surveys'].copy()\n",
    "num_surveys_block.index = num_surveys_block.index.str[2:]\n",
    "\n",
    "\n",
    "out['recorded_home_visits'] = num_surveys_block\n",
    "\n",
    "\n",
    "# add the statistical model outputs \n",
    "Smoke_predicts = Smoke.models['MultiLevel'][\n",
    "    [ 'detectors_working_prc','detectors_working_CI','geography']].copy()\n",
    "Smoke_predicts.index = Smoke_predicts.index.str[2:]\n",
    "out = out.merge(Smoke_predicts,how = 'left', left_index = True, right_index = True)\n",
    "\n",
    "## add DL model to outputs\n",
    "\n",
    "out = out.merge(smoke_prediction['Predictions'].copy(),how = 'left', left_index = True, right_index = True)"
   ]
  },
  {
   "cell_type": "code",
   "execution_count": null,
   "metadata": {
    "tags": [
     "remove_cell"
    ]
   },
   "outputs": [],
   "source": [
    "out['smoke_detector_risk_frac'] =  1 - out['detectors_predicted'] / 100\n",
    "out['smoke_detector_risk_score'] =  out['smoke_detector_risk_frac'].rank(pct=True)\n",
    "out[['smoke_detector_risk_frac','smoke_detector_risk_score']]"
   ]
  },
  {
   "cell_type": "code",
   "execution_count": null,
   "metadata": {},
   "outputs": [],
   "source": [
    "out.shape[0]"
   ]
  },
  {
   "cell_type": "code",
   "execution_count": null,
   "metadata": {
    "tags": [
     "remove_cell"
    ]
   },
   "outputs": [],
   "source": [
    "# add final invidual predictors \n",
    "\n",
    "out['SVI_Theme_1'] = SVI.data['RPL_THEME1'].replace(-999.0, np.NaN)\n",
    "\n",
    "out['fire_propensity_risk_score'] = FPM.prediction_probs[1]\n",
    "out['fire_severity_risk_score'] = FSM.prediction_probs[1]\n",
    "\n"
   ]
  },
  {
   "cell_type": "code",
   "execution_count": null,
   "metadata": {
    "tags": [
     "remove_cell"
    ]
   },
   "outputs": [],
   "source": [
    "\n",
    "#create fire_risk_score by weighing propensity and severity at a .8 to .2 ratio.\n",
    "#We want the fire_risk_score to be half of the overall combinedRiskScore so multiple the fire_risk_score by 2.\n",
    "out['fire_prop_weighted'] = out['fire_propensity_risk_score']*0.8\n",
    "out['fire_sev_weighted'] = out['fire_severity_risk_score']*0.2\n",
    "out['fire_risk_score'] = out.loc[:,['fire_prop_weighted', 'fire_sev_weighted']].mean(axis = 1, skipna = True)\n",
    "out['fire_risk_score'] = out['fire_risk_score']*2\n",
    "\n",
    "\n",
    "# create ranked score for poverty, smoke detector risk and fire risk to be used as the final outputs of the model \n",
    "out['fire_risk_ranked'] = out['fire_risk_score'].rank(pct = True)\n",
    "out['poverty_risk_ranked'] = ACS.data['inc_pct_poverty'].rank(pct = True)\n",
    "out['smoke_detector_risk_ranked'] = out['smoke_detector_risk_score'].rank(pct = True)\n",
    "\n",
    "out['CombinedRiskScore'] =  out.loc[:,['smoke_detector_risk_ranked',\n",
    "                                       'poverty_risk_ranked',\n",
    "                                       'fire_risk_ranked',\n",
    "                                       ] ].mean(axis = 1, skipna = True) #False )"
   ]
  },
  {
   "cell_type": "code",
   "execution_count": null,
   "metadata": {
    "tags": [
     "remove_cell"
    ]
   },
   "outputs": [],
   "source": [
    "#out"
   ]
  },
  {
   "cell_type": "markdown",
   "metadata": {},
   "source": [
    "**Combined Risk Score Summary:**"
   ]
  },
  {
   "cell_type": "code",
   "execution_count": null,
   "metadata": {},
   "outputs": [],
   "source": [
    "out['CombinedRiskScore'].describe()"
   ]
  },
  {
   "cell_type": "code",
   "execution_count": null,
   "metadata": {
    "tags": [
     "remove_cell"
    ]
   },
   "outputs": [],
   "source": [
    "out_name = f\"CombinedModels-basic{date.today()}.csv\"\n",
    "out_save = out.copy()\n",
    "out_save.index = '#_' + out_save.index\n",
    "out_save.to_csv(out_path / out_name)"
   ]
  },
  {
   "cell_type": "code",
   "execution_count": null,
   "metadata": {},
   "outputs": [],
   "source": [
    "out_columns = ['state','NFIRS_start','NFIRS_end','years_fires_reported','total_fires_reported', 'max_fires_1k', \n",
    "               'median_fires_1k','total_fires_reported_sev', 'max_fires_1k_sev', 'median_fires_1k_sev',\n",
    "               'fire_propensity_risk_score','fire_severity_risk_score', 'recorded_home_visits',\n",
    "              'smoke_detector_risk_frac', 'smoke_detector_risk_score','geography', 'SVI_Theme_1','CombinedRiskScore',\n",
    "              'did_not_work_past_12_mo', 'house_pct_live_alone', 'pct_alt_heat', 'house_yr_pct_before_1960', \n",
    "               'inc_pct_poverty', 'race_pct_black_or_amind', 'tot_population', 'house_tot_occ_cnt', 'inc_pcincome', \n",
    "               'inc_hhmean', 'race_pct_white', 'race_pct_whitenh','race_pct_whiteh', 'race_pct_nwhitenh', \n",
    "               'race_pct_hisp',  'race_pct_black', 'race_pct_amind',  'race_pct_asian', 'race_pct_napi', 'race_pct_other', \n",
    "               'race_pct_two+','age_pct_under25', 'age_pct_over65',  'disability_pct', 'snap_past_12_mo', 'single_unit_home', \n",
    "               'multi_unit_home', 'mobile_home', 'boat_van_rv_home', 'spanish_speaking', 'state_id', 'state_rank', 'county_id', 'county_rank']\n",
    "display(Markdown('**Saving columns:**'))\n",
    "out_columns"
   ]
  },
  {
   "cell_type": "code",
   "execution_count": null,
   "metadata": {},
   "outputs": [],
   "source": [
    "years = [str(num) for num in range(NFIRS_year_used_end - NFIRS_num_training_years,NFIRS_year_used_end+1)  ]"
   ]
  },
  {
   "cell_type": "code",
   "execution_count": null,
   "metadata": {
    "tags": [
     "remove_cell"
    ]
   },
   "outputs": [],
   "source": [
    "out['NFIRS_start'] = min(years)\n",
    "out['NFIRS_start'] = out['NFIRS_start'].astype(int)\n",
    "out['NFIRS_end'] = max(years)\n",
    "out['NFIRS_end'] = out['NFIRS_end'].astype(int)\n",
    "#out"
   ]
  },
  {
   "cell_type": "code",
   "execution_count": null,
   "metadata": {
    "tags": [
     "remove_cell"
    ]
   },
   "outputs": [],
   "source": [
    "fires_trained = NFIRS.fires_noAdjustment[years]\n",
    "fires_trained2 = fires_trained>0\n",
    "fires_trained2['years_fires_reported']= fires_trained2.sum(axis = 1)\n",
    "fires_trained2 = fires_trained2['years_fires_reported']\n",
    "out = out.merge(fires_trained2, how = 'left', left_index = True, right_index = True)\n",
    "\n",
    "fires_trained = NFIRS.fires_noAdjustment[years]\n",
    "fires_trained['total_fires_reported'] = fires_trained.sum(axis = 1)\n",
    "fires_trained = fires_trained['total_fires_reported']\n",
    "out = out.merge(fires_trained, how = 'left', left_index = True, right_index = True)\n",
    "\n",
    "fires_trained = NFIRS.fires[years]\n",
    "fires_trained2 = np.nanmax(fires_trained, axis =1)\n",
    "fires_trained['max_fires_1k'] = fires_trained2\n",
    "fires_trained2 = fires_trained['max_fires_1k']\n",
    "out = out.merge(fires_trained2, how = 'left', left_index = True, right_index = True)\n",
    "\n",
    "fires_trained = NFIRS.fires[years]\n",
    "fires_trained2 = np.nanmedian(fires_trained, axis =1)\n",
    "fires_trained['median_fires_1k'] = fires_trained2\n",
    "fires_trained2 = fires_trained['median_fires_1k']\n",
    "out = out.merge(fires_trained2, how = 'left', left_index = True, right_index = True)\n",
    "#out"
   ]
  },
  {
   "cell_type": "code",
   "execution_count": null,
   "metadata": {
    "tags": [
     "remove_cell"
    ]
   },
   "outputs": [],
   "source": [
    "fires_trained = NFIRS_Sev.fires[years]\n",
    "fires_trained['total_fires_reported_sev'] = fires_trained.sum(axis = 1)\n",
    "fires_trained = fires_trained['total_fires_reported_sev']\n",
    "out = out.merge(fires_trained, how = 'left', left_index = True, right_index = True)\n",
    "\n",
    "fires_trained = NFIRS_Sev.fires[years]\n",
    "fires_trained2 = np.nanmax(fires_trained, axis =1)\n",
    "fires_trained['max_fires_1k_sev'] = fires_trained2\n",
    "fires_trained2 = fires_trained['max_fires_1k_sev']\n",
    "out = out.merge(fires_trained2, how = 'left', left_index = True, right_index = True)\n",
    "\n",
    "fires_trained = NFIRS_Sev.fires[years]\n",
    "fires_trained2 = np.nanmedian(fires_trained, axis =1)\n",
    "fires_trained['median_fires_1k_sev'] = fires_trained2\n",
    "fires_trained2 = fires_trained['median_fires_1k_sev']\n",
    "out = out.merge(fires_trained2, how = 'left', left_index = True, right_index = True)\n",
    "#out"
   ]
  },
  {
   "cell_type": "code",
   "execution_count": null,
   "metadata": {
    "tags": [
     "remove_cell"
    ]
   },
   "outputs": [],
   "source": [
    "ACS_toCombine = ACS.data\n",
    "#check this makes sense\n",
    "ACS_toCombine['inc_hhmean'] = ACS_toCombine['inc_pcincome']*ACS_toCombine['tot_population']/ACS_toCombine['house_tot_occ_cnt']\n",
    "ACS_toCombine['inc_hhmean'] = ACS_toCombine['inc_hhmean'].round()\n",
    "ACS_toCombine['race_pct_whiteh'] = ACS_toCombine['race_pct_white']-ACS_toCombine['race_pct_whitenh']\n",
    "ACS_toCombine['race_pct_nwhitenh'] = 1-ACS_toCombine['race_pct_hisp']-ACS_toCombine['race_pct_whitenh']\n",
    "ACS_toCombine['race_pct_nwhitenh'] = ACS_toCombine['race_pct_nwhitenh'].round(5)\n",
    "\n",
    "\n",
    "ACS_keep = ACS_toCombine[['state',\n",
    "    'did_not_work_past_12_mo', 'house_pct_live_alone', 'pct_alt_heat', 'house_yr_pct_before_1960', \n",
    "    'inc_pct_poverty', 'race_pct_black_or_amind', 'tot_population', 'house_tot_occ_cnt', 'inc_pcincome', \n",
    "    'inc_hhmean', 'race_pct_white', 'race_pct_whitenh','race_pct_whiteh', 'race_pct_nwhitenh', \n",
    "    'race_pct_hisp',  'race_pct_black', 'race_pct_amind',  'race_pct_asian', 'race_pct_napi', 'race_pct_other', \n",
    "    'race_pct_two+','age_pct_under25', 'age_pct_over65',  'disability_pct', 'snap_past_12_mo', 'single_unit_home', \n",
    "    'multi_unit_home', 'mobile_home', 'boat_van_rv_home', 'spanish_speaking'\n",
    "    ]]\n",
    "ACS_keep = ACS_keep.replace(-666666666.0, np.nan)\n",
    "ACS_keep = ACS_keep.replace(np.inf, np.nan)"
   ]
  },
  {
   "cell_type": "code",
   "execution_count": null,
   "metadata": {
    "tags": [
     "remove_cell"
    ]
   },
   "outputs": [],
   "source": [
    "out = out.merge(ACS_keep, how = 'left', left_index = True, right_index = True)\n",
    "#out"
   ]
  },
  {
   "cell_type": "code",
   "execution_count": null,
   "metadata": {
    "tags": [
     "remove_cell"
    ]
   },
   "outputs": [],
   "source": [
    "out['state_id'] = out.index\n",
    "out['state_id'] = out['state_id'].str[:2]\n",
    "out['state_rank'] = out.groupby('state_id')['CombinedRiskScore'].rank(ascending=False)\n",
    "out['county_id'] = out.index\n",
    "out['county_id'] = out['county_id'].str[:5]\n",
    "out['county_rank'] = out.groupby('county_id')['CombinedRiskScore'].rank(ascending=False)"
   ]
  },
  {
   "cell_type": "code",
   "execution_count": null,
   "metadata": {
    "tags": [
     "remove_cell"
    ]
   },
   "outputs": [],
   "source": [
    "out_final = out[out_columns]\n",
    "#out_final"
   ]
  },
  {
   "cell_type": "code",
   "execution_count": null,
   "metadata": {
    "tags": [
     "remove_cell"
    ]
   },
   "outputs": [],
   "source": [
    "a = out.describe()\n",
    "a.to_csv(out_path/f\"summary-pop0-{date.today()}.csv\")"
   ]
  },
  {
   "cell_type": "code",
   "execution_count": null,
   "metadata": {
    "tags": [
     "remove_cell"
    ]
   },
   "outputs": [],
   "source": [
    "out_name = f\"CombinedModels-FileStructureColumns-pop0-{date.today()}.csv\"\n",
    "out_final.index = '#_' + out_final.index\n",
    "out_final.to_csv(out_path / out_name)"
   ]
  },
  {
   "cell_type": "code",
   "execution_count": null,
   "metadata": {},
   "outputs": [],
   "source": []
  }
 ],
 "metadata": {
  "celltoolbar": "Tags",
  "kernelspec": {
   "display_name": "Python 3",
   "language": "python",
   "name": "python3"
  },
  "language_info": {
   "codemirror_mode": {
    "name": "ipython",
    "version": 3
   },
   "file_extension": ".py",
   "mimetype": "text/x-python",
   "name": "python",
   "nbconvert_exporter": "python",
   "pygments_lexer": "ipython3",
   "version": "3.8.1"
  }
 },
 "nbformat": 4,
 "nbformat_minor": 4
}
