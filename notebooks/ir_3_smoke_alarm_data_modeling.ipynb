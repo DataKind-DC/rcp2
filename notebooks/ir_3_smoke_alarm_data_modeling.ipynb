{
 "cells": [
  {
   "cell_type": "markdown",
   "metadata": {},
   "source": [
    "# Model Building\n",
    "In this stage, you will build several machine learning models on the cleaned data set and attempt to train a model that performs better than baseline. Depending on your data set, this may mean different things.\n",
    "## Imports"
   ]
  },
  {
   "cell_type": "code",
   "execution_count": 6,
   "metadata": {},
   "outputs": [
    {
     "name": "stderr",
     "output_type": "stream",
     "text": [
      "INFO:numexpr.utils:NumExpr defaulting to 4 threads.\n"
     ]
    }
   ],
   "source": [
    "import os\n",
    "import sys\n",
    "import numpy as np\n",
    "import pandas as pd\n",
    "from sklearn.base import BaseEstimator, TransformerMixin\n",
    "from sklearn.model_selection import train_test_split\n",
    "from sklearn.pipeline import Pipeline\n",
    "from sklearn.preprocessing import OneHotEncoder, RobustScaler\n",
    "from sklearn.impute import SimpleImputer\n",
    "from sklearn.compose import ColumnTransformer\n",
    "from sklearn.model_selection import cross_val_score\n",
    "from sklearn.linear_model import LogisticRegression, RidgeClassifier, SGDClassifier\n",
    "from sklearn.tree import DecisionTreeClassifier\n",
    "from sklearn.ensemble import RandomForestClassifier\n",
    "from xgboost import XGBClassifier\n",
    "from sklearn.metrics import SCORERS, plot_precision_recall_curve, plot_roc_curve"
   ]
  },
  {
   "cell_type": "code",
   "execution_count": 8,
   "metadata": {},
   "outputs": [],
   "source": [
    "src_path = os.path.abspath('../src/')\n",
    "sys.path.append(src_path)"
   ]
  },
  {
   "cell_type": "code",
   "execution_count": 11,
   "metadata": {},
   "outputs": [],
   "source": [
    " # setup input and output locations\n",
    "input_loc = '../data/processed/'\n",
    "output_loc = '../data/processed/' # for checkpoints"
   ]
  },
  {
   "cell_type": "code",
   "execution_count": 14,
   "metadata": {},
   "outputs": [],
   "source": [
    "# to allow for all variables to be displayed in jupyter\n",
    "pd.set_option('display.max_rows', 500)\n",
    "pd.set_option('display.max_columns', 500)"
   ]
  },
  {
   "cell_type": "markdown",
   "metadata": {},
   "source": [
    "## Data"
   ]
  },
  {
   "cell_type": "code",
   "execution_count": 12,
   "metadata": {},
   "outputs": [],
   "source": [
    "micro = pd.read_pickle(input_loc + 'all_missing_excluded.pkl')"
   ]
  },
  {
   "cell_type": "markdown",
   "metadata": {},
   "source": [
    "## Data Splitting"
   ]
  },
  {
   "cell_type": "code",
   "execution_count": 17,
   "metadata": {},
   "outputs": [],
   "source": [
    "y_micro = micro.at_least_one_alarm"
   ]
  },
  {
   "cell_type": "code",
   "execution_count": 44,
   "metadata": {},
   "outputs": [
    {
     "data": {
      "text/plain": [
       "['additional_hazard_type',\n",
       " 'people_served',\n",
       " 'youth_served',\n",
       " 'seniors_served',\n",
       " 'veterans_military_members_and_military_family_members_served',\n",
       " 'individuals_with_disabilities_access_or_functional_needs_served',\n",
       " 'tot_population',\n",
       " 'in_poverty',\n",
       " 'inc_pct_poverty',\n",
       " 'inc_pcincome',\n",
       " 'age_pct_under25',\n",
       " 'age_pct_25_64',\n",
       " 'age_pct_over65',\n",
       " 'educ_tot_pop',\n",
       " 'educ_no_school',\n",
       " 'educ_nursery_4th',\n",
       " 'educ_5th_6th',\n",
       " 'educ_7th_8th',\n",
       " 'educ_9th',\n",
       " 'educ_10th',\n",
       " 'educ_11th',\n",
       " 'educ_12th_no_diploma',\n",
       " 'educ_high_school_grad',\n",
       " 'educ_col_less_1_yr',\n",
       " 'educ_some_col_no_grad',\n",
       " 'educ_associates',\n",
       " 'educ_bachelors',\n",
       " 'educ_masters',\n",
       " 'educ_professional',\n",
       " 'educ_docterate',\n",
       " 'total_pop_16_plus',\n",
       " 'worked_past_12_mo',\n",
       " 'did_not_work_past_12_mo',\n",
       " 'race_pct_white',\n",
       " 'race_pct_whitenh',\n",
       " 'race_pct_nonwhite',\n",
       " 'race_pct_nonwhitenh',\n",
       " 'race_pct_amind',\n",
       " 'race_pct_black',\n",
       " 'race_pct_hisp',\n",
       " 'house_tot_occ_cnt',\n",
       " 'house_pct_family',\n",
       " 'house_pct_family_married',\n",
       " 'house_pct_family_male_hh',\n",
       " 'house_pct_family_female_hh',\n",
       " 'house_pct_non_family',\n",
       " 'house_pct_live_alone',\n",
       " 'house_pct_no_live_alone',\n",
       " 'total_housing_units',\n",
       " 'house_pct_occupied',\n",
       " 'house_pct_vacant',\n",
       " 'house_pct_ownd_occupied',\n",
       " 'house_pct_rent_occupied',\n",
       " 'house_pct_1_room',\n",
       " 'house_pct_2_room',\n",
       " 'house_pct_3_room',\n",
       " 'house_pct_4_room',\n",
       " 'house_pct_5_room',\n",
       " 'house_pct_6_room',\n",
       " 'house_pct_7_room',\n",
       " 'house_pct_8_room',\n",
       " 'house_pct_9_plus_room',\n",
       " 'house_yr_pct_2014_plus',\n",
       " 'house_yr_pct_2010_2013',\n",
       " 'house_yr_pct_2000_2009',\n",
       " 'house_yr_pct_1990_1999',\n",
       " 'house_yr_pct_1980_1989',\n",
       " 'house_yr_pct_1970_1979',\n",
       " 'house_yr_pct_1960_1969',\n",
       " 'house_yr_pct_1950_1959',\n",
       " 'house_yr_pct_1940_1949',\n",
       " 'house_yr_pct_earlier_1939',\n",
       " 'heat_pct_utility_gas',\n",
       " 'heat_pct_bottled_tank_lpgas',\n",
       " 'heat_pct_electricity',\n",
       " 'heat_pct_fueloil_kerosene',\n",
       " 'heat_pct_coal',\n",
       " 'heat_pct_wood',\n",
       " 'heat_pct_solar',\n",
       " 'heat_pct_other',\n",
       " 'heat_pct_no_fuel',\n",
       " 'house_pct_complete_plumb',\n",
       " 'house_pct_incomplete_plumb',\n",
       " 'house_pct_complete_kitchen',\n",
       " 'house_pct_incomplete_kitchen',\n",
       " 'house_tot_w_mort',\n",
       " 'house_w_1_mort',\n",
       " 'house_w_2_mort',\n",
       " 'house_w_home_equity_loan',\n",
       " 'house_w_both_2_mort_and_loan',\n",
       " 'house_no_mort',\n",
       " 'house_tot_owned',\n",
       " 'house_val_less_10k',\n",
       " 'house_val_10k_15k',\n",
       " 'house_val_15k_20k',\n",
       " 'house_val_20k_25k',\n",
       " 'house_val_25k_30k',\n",
       " 'house_val_30k_35k',\n",
       " 'house_val_35k_40k',\n",
       " 'house_val_40k_50k',\n",
       " 'house_val_50k_60k',\n",
       " 'house_val_60k_70k',\n",
       " 'house_val_70k_80k',\n",
       " 'house_val_80k_90k',\n",
       " 'house_val_90k_100k',\n",
       " 'house_val_100k_125k',\n",
       " 'house_val_125k_150k',\n",
       " 'house_val_150k_175k',\n",
       " 'house_val_175k_200k',\n",
       " 'house_val_200k_250k',\n",
       " 'house_val_250k_300k',\n",
       " 'house_val_300k_400k',\n",
       " 'house_val_400k_500k',\n",
       " 'house_val_500k_750k',\n",
       " 'house_val_750k_1m',\n",
       " 'house_val_1m_1.5m',\n",
       " 'house_val_1.5m_2m',\n",
       " 'house_val_more_2m',\n",
       " 'house_density_occ',\n",
       " 'house_density']"
      ]
     },
     "execution_count": 44,
     "metadata": {},
     "output_type": "execute_result"
    }
   ],
   "source": [
    "X_micro_columns = micro.columns.to_list()[17:23] + micro.columns.to_list()[26:-4]\n",
    "X_micro_columns"
   ]
  },
  {
   "cell_type": "code",
   "execution_count": 48,
   "metadata": {},
   "outputs": [],
   "source": [
    "X_micro_columns = [var for var in X_micro_columns if var.find('tot') == -1]"
   ]
  },
  {
   "cell_type": "code",
   "execution_count": 49,
   "metadata": {},
   "outputs": [],
   "source": [
    "X_micro = micro[X_micro_columns]"
   ]
  },
  {
   "cell_type": "code",
   "execution_count": 69,
   "metadata": {},
   "outputs": [
    {
     "data": {
      "text/plain": [
       "['people_served',\n",
       " 'youth_served',\n",
       " 'seniors_served',\n",
       " 'veterans_military_members_and_military_family_members_served',\n",
       " 'individuals_with_disabilities_access_or_functional_needs_served',\n",
       " 'in_poverty',\n",
       " 'inc_pct_poverty',\n",
       " 'inc_pcincome',\n",
       " 'age_pct_under25',\n",
       " 'age_pct_25_64',\n",
       " 'age_pct_over65',\n",
       " 'educ_no_school',\n",
       " 'educ_nursery_4th',\n",
       " 'educ_5th_6th',\n",
       " 'educ_7th_8th',\n",
       " 'educ_9th',\n",
       " 'educ_10th',\n",
       " 'educ_11th',\n",
       " 'educ_12th_no_diploma',\n",
       " 'educ_high_school_grad',\n",
       " 'educ_col_less_1_yr',\n",
       " 'educ_some_col_no_grad',\n",
       " 'educ_associates',\n",
       " 'educ_bachelors',\n",
       " 'educ_masters',\n",
       " 'educ_professional',\n",
       " 'educ_docterate',\n",
       " 'worked_past_12_mo',\n",
       " 'did_not_work_past_12_mo',\n",
       " 'race_pct_white',\n",
       " 'race_pct_whitenh',\n",
       " 'race_pct_nonwhite',\n",
       " 'race_pct_nonwhitenh',\n",
       " 'race_pct_amind',\n",
       " 'race_pct_black',\n",
       " 'race_pct_hisp',\n",
       " 'house_pct_family',\n",
       " 'house_pct_family_married',\n",
       " 'house_pct_family_male_hh',\n",
       " 'house_pct_family_female_hh',\n",
       " 'house_pct_non_family',\n",
       " 'house_pct_live_alone',\n",
       " 'house_pct_no_live_alone',\n",
       " 'house_pct_occupied',\n",
       " 'house_pct_vacant',\n",
       " 'house_pct_ownd_occupied',\n",
       " 'house_pct_rent_occupied',\n",
       " 'house_pct_1_room',\n",
       " 'house_pct_2_room',\n",
       " 'house_pct_3_room',\n",
       " 'house_pct_4_room',\n",
       " 'house_pct_5_room',\n",
       " 'house_pct_6_room',\n",
       " 'house_pct_7_room',\n",
       " 'house_pct_8_room',\n",
       " 'house_pct_9_plus_room',\n",
       " 'house_yr_pct_2014_plus',\n",
       " 'house_yr_pct_2010_2013',\n",
       " 'house_yr_pct_2000_2009',\n",
       " 'house_yr_pct_1990_1999',\n",
       " 'house_yr_pct_1980_1989',\n",
       " 'house_yr_pct_1970_1979',\n",
       " 'house_yr_pct_1960_1969',\n",
       " 'house_yr_pct_1950_1959',\n",
       " 'house_yr_pct_1940_1949',\n",
       " 'house_yr_pct_earlier_1939',\n",
       " 'heat_pct_utility_gas',\n",
       " 'heat_pct_bottled_tank_lpgas',\n",
       " 'heat_pct_electricity',\n",
       " 'heat_pct_fueloil_kerosene',\n",
       " 'heat_pct_coal',\n",
       " 'heat_pct_wood',\n",
       " 'heat_pct_solar',\n",
       " 'heat_pct_other',\n",
       " 'heat_pct_no_fuel',\n",
       " 'house_pct_complete_plumb',\n",
       " 'house_pct_incomplete_plumb',\n",
       " 'house_pct_complete_kitchen',\n",
       " 'house_pct_incomplete_kitchen',\n",
       " 'house_w_1_mort',\n",
       " 'house_w_2_mort',\n",
       " 'house_w_home_equity_loan',\n",
       " 'house_w_both_2_mort_and_loan',\n",
       " 'house_no_mort',\n",
       " 'house_val_less_10k',\n",
       " 'house_val_10k_15k',\n",
       " 'house_val_15k_20k',\n",
       " 'house_val_20k_25k',\n",
       " 'house_val_25k_30k',\n",
       " 'house_val_30k_35k',\n",
       " 'house_val_35k_40k',\n",
       " 'house_val_40k_50k',\n",
       " 'house_val_50k_60k',\n",
       " 'house_val_60k_70k',\n",
       " 'house_val_70k_80k',\n",
       " 'house_val_80k_90k',\n",
       " 'house_val_90k_100k',\n",
       " 'house_val_100k_125k',\n",
       " 'house_val_125k_150k',\n",
       " 'house_val_150k_175k',\n",
       " 'house_val_175k_200k',\n",
       " 'house_val_200k_250k',\n",
       " 'house_val_250k_300k',\n",
       " 'house_val_300k_400k',\n",
       " 'house_val_400k_500k',\n",
       " 'house_val_500k_750k',\n",
       " 'house_val_750k_1m',\n",
       " 'house_val_1m_1.5m',\n",
       " 'house_val_1.5m_2m',\n",
       " 'house_val_more_2m',\n",
       " 'house_density_occ',\n",
       " 'house_density']"
      ]
     },
     "execution_count": 69,
     "metadata": {},
     "output_type": "execute_result"
    }
   ],
   "source": [
    "numerical_variables= X_micro_columns[1:]\n",
    "numerical_variables"
   ]
  },
  {
   "cell_type": "code",
   "execution_count": 73,
   "metadata": {},
   "outputs": [
    {
     "data": {
      "text/plain": [
       "['additional_hazard_type']"
      ]
     },
     "execution_count": 73,
     "metadata": {},
     "output_type": "execute_result"
    }
   ],
   "source": [
    "categorical_variables = [X_micro_columns[0]]\n",
    "categorical_variables"
   ]
  },
  {
   "cell_type": "code",
   "execution_count": 74,
   "metadata": {},
   "outputs": [],
   "source": [
    "cat_pipeline = Pipeline([\n",
    "    ('encode', OneHotEncoder(drop='first')),\n",
    " ])"
   ]
  },
  {
   "cell_type": "code",
   "execution_count": 75,
   "metadata": {},
   "outputs": [],
   "source": [
    "num_pipeline = Pipeline([\n",
    "    ('rbst_scaler', RobustScaler()),\n",
    " ])"
   ]
  },
  {
   "cell_type": "code",
   "execution_count": 76,
   "metadata": {},
   "outputs": [],
   "source": [
    "full_pipeline = ColumnTransformer([\n",
    "    (\"cat\", cat_pipeline, categorical_variables),\n",
    "    (\"num\", num_pipeline, numerical_variables)\n",
    " ])\n",
    "X_micro = full_pipeline.fit_transform(X_micro)"
   ]
  },
  {
   "cell_type": "markdown",
   "metadata": {},
   "source": [
    "## Baseline Model"
   ]
  },
  {
   "cell_type": "code",
   "execution_count": 77,
   "metadata": {},
   "outputs": [
    {
     "name": "stderr",
     "output_type": "stream",
     "text": [
      "C:\\ProgramData\\Anaconda3\\lib\\site-packages\\sklearn\\linear_model\\_sag.py:330: ConvergenceWarning: The max_iter was reached which means the coef_ did not converge\n",
      "  \"the coef_ did not converge\", ConvergenceWarning)\n",
      "C:\\ProgramData\\Anaconda3\\lib\\site-packages\\sklearn\\linear_model\\_sag.py:330: ConvergenceWarning: The max_iter was reached which means the coef_ did not converge\n",
      "  \"the coef_ did not converge\", ConvergenceWarning)\n",
      "C:\\ProgramData\\Anaconda3\\lib\\site-packages\\sklearn\\linear_model\\_sag.py:330: ConvergenceWarning: The max_iter was reached which means the coef_ did not converge\n",
      "  \"the coef_ did not converge\", ConvergenceWarning)\n",
      "C:\\ProgramData\\Anaconda3\\lib\\site-packages\\sklearn\\linear_model\\_sag.py:330: ConvergenceWarning: The max_iter was reached which means the coef_ did not converge\n",
      "  \"the coef_ did not converge\", ConvergenceWarning)\n"
     ]
    },
    {
     "name": "stdout",
     "output_type": "stream",
     "text": [
      "Wall time: 8min 46s\n"
     ]
    },
    {
     "name": "stderr",
     "output_type": "stream",
     "text": [
      "C:\\ProgramData\\Anaconda3\\lib\\site-packages\\sklearn\\linear_model\\_sag.py:330: ConvergenceWarning: The max_iter was reached which means the coef_ did not converge\n",
      "  \"the coef_ did not converge\", ConvergenceWarning)\n"
     ]
    },
    {
     "data": {
      "text/plain": [
       "array([0.64502473, 0.64605142, 0.62271309, 0.61799297, 0.63158908])"
      ]
     },
     "execution_count": 77,
     "metadata": {},
     "output_type": "execute_result"
    }
   ],
   "source": [
    "%%time\n",
    "\n",
    "clf = LogisticRegression(random_state=42, solver='saga', class_weight='balanced')\n",
    "\n",
    "scores_clf = cross_val_score(clf, X_micro, y_micro, cv=5, scoring='roc_auc')\n",
    "scores_clf"
   ]
  },
  {
   "cell_type": "code",
   "execution_count": 78,
   "metadata": {},
   "outputs": [
    {
     "name": "stdout",
     "output_type": "stream",
     "text": [
      "Wall time: 6min 45s\n"
     ]
    }
   ],
   "source": [
    "%%time\n",
    "clf_tree = DecisionTreeClassifier(class_weight='balanced')\n",
    "scores_tree = cross_val_score(clf_tree, X_micro, y_micro, cv=5, scoring='roc_auc')"
   ]
  },
  {
   "cell_type": "code",
   "execution_count": 79,
   "metadata": {},
   "outputs": [
    {
     "data": {
      "text/plain": [
       "array([0.50735444, 0.5008593 , 0.48513809, 0.49292878, 0.52318234])"
      ]
     },
     "execution_count": 79,
     "metadata": {},
     "output_type": "execute_result"
    }
   ],
   "source": [
    "scores_tree"
   ]
  },
  {
   "cell_type": "code",
   "execution_count": 80,
   "metadata": {},
   "outputs": [
    {
     "name": "stdout",
     "output_type": "stream",
     "text": [
      "Wall time: 20min 13s\n"
     ]
    },
    {
     "data": {
      "text/plain": [
       "array([0.59804201, 0.54366079, 0.51085927, 0.54686707, 0.6116126 ])"
      ]
     },
     "execution_count": 80,
     "metadata": {},
     "output_type": "execute_result"
    }
   ],
   "source": [
    "%%time\n",
    "rfc = RandomForestClassifier(n_jobs=7, class_weight='balanced')\n",
    "scores_rfc = cross_val_score(rfc, X_micro, y_micro, cv=5, scoring='roc_auc')\n",
    "scores_rfc    "
   ]
  },
  {
   "cell_type": "code",
   "execution_count": 81,
   "metadata": {},
   "outputs": [
    {
     "name": "stdout",
     "output_type": "stream",
     "text": [
      "Wall time: 2min 48s\n"
     ]
    },
    {
     "data": {
      "text/plain": [
       "array([0.60122585, 0.6213128 , 0.58877946, 0.6029857 , 0.62511996])"
      ]
     },
     "execution_count": 81,
     "metadata": {},
     "output_type": "execute_result"
    }
   ],
   "source": [
    "%%time\n",
    "sgc_hinge = SGDClassifier(loss=\"hinge\", penalty=\"l2\", max_iter=500, class_weight=\"balanced\")\n",
    "scores_sgd_hinge = cross_val_score(sgc_hinge, X_micro, y_micro, cv=5, scoring='roc_auc')\n",
    "scores_sgd_hinge"
   ]
  },
  {
   "cell_type": "code",
   "execution_count": 82,
   "metadata": {},
   "outputs": [
    {
     "name": "stderr",
     "output_type": "stream",
     "text": [
      "C:\\ProgramData\\Anaconda3\\lib\\site-packages\\sklearn\\linear_model\\_sag.py:330: ConvergenceWarning: The max_iter was reached which means the coef_ did not converge\n",
      "  \"the coef_ did not converge\", ConvergenceWarning)\n",
      "C:\\ProgramData\\Anaconda3\\lib\\site-packages\\sklearn\\linear_model\\_sag.py:330: ConvergenceWarning: The max_iter was reached which means the coef_ did not converge\n",
      "  \"the coef_ did not converge\", ConvergenceWarning)\n",
      "C:\\ProgramData\\Anaconda3\\lib\\site-packages\\sklearn\\linear_model\\_sag.py:330: ConvergenceWarning: The max_iter was reached which means the coef_ did not converge\n",
      "  \"the coef_ did not converge\", ConvergenceWarning)\n",
      "C:\\ProgramData\\Anaconda3\\lib\\site-packages\\sklearn\\linear_model\\_sag.py:330: ConvergenceWarning: The max_iter was reached which means the coef_ did not converge\n",
      "  \"the coef_ did not converge\", ConvergenceWarning)\n"
     ]
    },
    {
     "name": "stdout",
     "output_type": "stream",
     "text": [
      "Wall time: 11min 4s\n"
     ]
    },
    {
     "name": "stderr",
     "output_type": "stream",
     "text": [
      "C:\\ProgramData\\Anaconda3\\lib\\site-packages\\sklearn\\linear_model\\_sag.py:330: ConvergenceWarning: The max_iter was reached which means the coef_ did not converge\n",
      "  \"the coef_ did not converge\", ConvergenceWarning)\n"
     ]
    },
    {
     "data": {
      "text/plain": [
       "array([0.64507731, 0.64604564, 0.6227025 , 0.61805863, 0.63158165])"
      ]
     },
     "execution_count": 82,
     "metadata": {},
     "output_type": "execute_result"
    }
   ],
   "source": [
    "%%time\n",
    "\n",
    "clf_harsh = LogisticRegression(random_state=42, penalty='l1', C=0.1, solver='saga', class_weight='balanced')\n",
    "\n",
    "scores_clf_harsh = cross_val_score(clf_harsh, X_micro, y_micro, cv=5, scoring='roc_auc')\n",
    "scores_clf_harsh"
   ]
  },
  {
   "cell_type": "code",
   "execution_count": 83,
   "metadata": {},
   "outputs": [
    {
     "name": "stderr",
     "output_type": "stream",
     "text": [
      "C:\\ProgramData\\Anaconda3\\lib\\site-packages\\sklearn\\linear_model\\_sag.py:330: ConvergenceWarning: The max_iter was reached which means the coef_ did not converge\n",
      "  \"the coef_ did not converge\", ConvergenceWarning)\n",
      "C:\\ProgramData\\Anaconda3\\lib\\site-packages\\sklearn\\linear_model\\_sag.py:330: ConvergenceWarning: The max_iter was reached which means the coef_ did not converge\n",
      "  \"the coef_ did not converge\", ConvergenceWarning)\n",
      "C:\\ProgramData\\Anaconda3\\lib\\site-packages\\sklearn\\linear_model\\_sag.py:330: ConvergenceWarning: The max_iter was reached which means the coef_ did not converge\n",
      "  \"the coef_ did not converge\", ConvergenceWarning)\n",
      "C:\\ProgramData\\Anaconda3\\lib\\site-packages\\sklearn\\linear_model\\_sag.py:330: ConvergenceWarning: The max_iter was reached which means the coef_ did not converge\n",
      "  \"the coef_ did not converge\", ConvergenceWarning)\n",
      "C:\\ProgramData\\Anaconda3\\lib\\site-packages\\sklearn\\linear_model\\_sag.py:330: ConvergenceWarning: The max_iter was reached which means the coef_ did not converge\n",
      "  \"the coef_ did not converge\", ConvergenceWarning)\n"
     ]
    },
    {
     "name": "stdout",
     "output_type": "stream",
     "text": [
      "Wall time: 1h 6s\n"
     ]
    },
    {
     "data": {
      "text/plain": [
       "array([0.64648461, 0.64705613, 0.62554257, 0.61384459, 0.63281974])"
      ]
     },
     "execution_count": 83,
     "metadata": {},
     "output_type": "execute_result"
    }
   ],
   "source": [
    "%%time\n",
    "\n",
    "clf_harsh = LogisticRegression(random_state=42, penalty='l1', C=0.01, solver='saga', class_weight='balanced', max_iter=500)\n",
    "\n",
    "scores_clf_harsh = cross_val_score(clf_harsh, X_micro, y_micro, cv=5, scoring='roc_auc')\n",
    "scores_clf_harsh"
   ]
  },
  {
   "cell_type": "code",
   "execution_count": null,
   "metadata": {},
   "outputs": [
    {
     "name": "stderr",
     "output_type": "stream",
     "text": [
      "C:\\ProgramData\\Anaconda3\\lib\\site-packages\\sklearn\\linear_model\\_sag.py:330: ConvergenceWarning: The max_iter was reached which means the coef_ did not converge\n",
      "  \"the coef_ did not converge\", ConvergenceWarning)\n",
      "C:\\ProgramData\\Anaconda3\\lib\\site-packages\\sklearn\\linear_model\\_sag.py:330: ConvergenceWarning: The max_iter was reached which means the coef_ did not converge\n",
      "  \"the coef_ did not converge\", ConvergenceWarning)\n",
      "C:\\ProgramData\\Anaconda3\\lib\\site-packages\\sklearn\\linear_model\\_sag.py:330: ConvergenceWarning: The max_iter was reached which means the coef_ did not converge\n",
      "  \"the coef_ did not converge\", ConvergenceWarning)\n"
     ]
    }
   ],
   "source": [
    "%%time\n",
    "\n",
    "clf_harsh = LogisticRegression(random_state=42, penalty='l2', C=0.1, solver='saga', class_weight='balanced', max_iter=500)\n",
    "\n",
    "scores_clf_harsh = cross_val_score(clf_harsh, X_micro, y_micro, cv=5, scoring='roc_auc')\n",
    "scores_clf_harsh"
   ]
  },
  {
   "cell_type": "markdown",
   "metadata": {},
   "source": [
    "## Model Improvement"
   ]
  },
  {
   "cell_type": "markdown",
   "metadata": {},
   "source": [
    "### Scaling"
   ]
  },
  {
   "cell_type": "code",
   "execution_count": null,
   "metadata": {},
   "outputs": [],
   "source": []
  },
  {
   "cell_type": "markdown",
   "metadata": {},
   "source": [
    "### Feature Selection and Engineering"
   ]
  },
  {
   "cell_type": "code",
   "execution_count": null,
   "metadata": {},
   "outputs": [],
   "source": []
  },
  {
   "cell_type": "markdown",
   "metadata": {},
   "source": [
    "### Hyperparameter Tuning"
   ]
  },
  {
   "cell_type": "code",
   "execution_count": null,
   "metadata": {},
   "outputs": [],
   "source": []
  },
  {
   "cell_type": "markdown",
   "metadata": {},
   "source": [
    "### Additional Tuning, Processing, or Model-Improvement"
   ]
  },
  {
   "cell_type": "code",
   "execution_count": null,
   "metadata": {},
   "outputs": [],
   "source": []
  },
  {
   "cell_type": "markdown",
   "metadata": {},
   "source": [
    "## Outcome"
   ]
  },
  {
   "cell_type": "code",
   "execution_count": null,
   "metadata": {},
   "outputs": [],
   "source": []
  }
 ],
 "metadata": {
  "kernelspec": {
   "display_name": "Python 3",
   "language": "python",
   "name": "python3"
  },
  "language_info": {
   "codemirror_mode": {
    "name": "ipython",
    "version": 3
   },
   "file_extension": ".py",
   "mimetype": "text/x-python",
   "name": "python",
   "nbconvert_exporter": "python",
   "pygments_lexer": "ipython3",
   "version": "3.7.3"
  }
 },
 "nbformat": 4,
 "nbformat_minor": 4
}
